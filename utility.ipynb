{
 "cells": [
  {
   "cell_type": "markdown",
   "metadata": {},
   "source": [
    "# Python for Creating CSV and Preliminary Reporting"
   ]
  },
  {
   "cell_type": "code",
   "execution_count": null,
   "metadata": {},
   "outputs": [],
   "source": [
    "import csv\n",
    "import contextily as cx\n",
    "import geopandas as gpd\n",
    "import hvplot.pandas as hpd\n",
    "import hvplot as hv\n",
    "import json\n",
    "import matplotlib.pyplot as plt\n",
    "import pandas as pd\n",
    "import rdflib as rdf\n",
    "from shapely.geometry import Point\n",
    "import urllib\n",
    "\n",
    "%matplotlib inline\n",
    "plt.style.use('ggplot')\n",
    "\n",
    "from datetime import date\n",
    "print(\"Last run: \", date.today())\n",
    "\n",
    "#gv.extension('bokeh', 'matplotlib')"
   ]
  },
  {
   "cell_type": "markdown",
   "metadata": {},
   "source": [
    "## Load Data and Write to CSV\n"
   ]
  },
  {
   "cell_type": "code",
   "execution_count": null,
   "metadata": {},
   "outputs": [],
   "source": [
    "with open(\"roman-amphitheaters.geojson\") as f:\n",
    "    j = json.load(f)"
   ]
  },
  {
   "cell_type": "code",
   "execution_count": null,
   "metadata": {},
   "outputs": [],
   "source": [
    "# If there is one, I'd welcome a more pythonic approach. One that \n",
    "# accomodates the variable data model supported by JSON.\n",
    "\n",
    "d = []\n",
    "for feature in j['features']:\n",
    "    \n",
    "    # Check for optional properties\n",
    "\n",
    "    latintoponym = ''\n",
    "    if 'latintoponym' in feature['properties'].keys() and type(feature['properties']['latintoponym']) == str:\n",
    "        latintoponym = feature['properties']['latintoponym']\n",
    "            \n",
    "    welchid = ''\n",
    "    if 'welchid' in feature['properties'].keys():\n",
    "        welchid = feature['properties']['welchid']\n",
    "        \n",
    "    golvinid = ''\n",
    "    if 'golvinid' in feature['properties'].keys():\n",
    "        golvinid = feature['properties']['golvinid']\n",
    "\n",
    "    buildingtype = ''\n",
    "    if 'buildingtype' in feature['properties'].keys():\n",
    "        buildingtype = feature['properties']['buildingtype']\n",
    "            \n",
    "    try:\n",
    "        zotero = feature['properties']['bibliography'][0]['zoteroitem']\n",
    "    except:\n",
    "        zotero = ''\n",
    "\n",
    "    amphitheatrum = ''\n",
    "    if 'amphitheatrum' in feature['properties'].keys():\n",
    "        amphitheatrum = feature['properties']['amphitheatrum']\n",
    " \n",
    "    chronogroup = ''\n",
    "    if 'chronogroup' in feature['properties'].keys():\n",
    "        chronogroup = feature['properties']['chronogroup']\n",
    "        \n",
    "    secondcentury = True\n",
    "    if 'exclude' in feature['properties'].keys():\n",
    "        secondcentury = False\n",
    "\n",
    "    capacity = ''\n",
    "    if 'capacity' in feature['properties'].keys():\n",
    "        if 'quantity' in feature['properties']['capacity']:\n",
    "            capacity = feature['properties']['capacity']['quantity']\n",
    "\n",
    "\n",
    "    romanregion = ''\n",
    "    if 'province' in feature['properties'].keys():\n",
    "        romanregion = feature['properties']['province']\n",
    "    elif 'region' in feature['properties'].keys():\n",
    "        romanregion = feature['properties']['region']\n",
    "        \n",
    "        \n",
    "    arenamajor = ''\n",
    "    arenaminor = ''\n",
    "    extmajor = ''\n",
    "    extminor = ''\n",
    "    exteriorheight = ''\n",
    "    dimensionsunknown = True\n",
    "    if 'dimensions' in feature['properties'].keys():\n",
    "        dimensions = feature['properties']['dimensions']\n",
    "        \n",
    "        if 'arenamajor' in dimensions:\n",
    "            if type(dimensions['arenamajor']) == int or type(dimensions['arenamajor']) == float:\n",
    "                arenamajor = dimensions['arenamajor']\n",
    "                dimensionsunknown = False\n",
    "\n",
    "        if 'arenaminor' in dimensions:\n",
    "            if type(dimensions['arenaminor']) == int or type(dimensions['arenaminor']) == float:\n",
    "                arenaminor = dimensions['arenaminor']\n",
    "                dimensionsunknown = False\n",
    "            \n",
    "        if 'exteriormajor' in dimensions:\n",
    "            if type(dimensions['exteriormajor']) == int or type(dimensions['exteriormajor']) == float:\n",
    "                extmajor = dimensions['exteriormajor']\n",
    "                dimensionsunknown = False\n",
    "\n",
    "        if 'exteriorminor' in dimensions:\n",
    "            if type(dimensions['exteriorminor']) == int or type(dimensions['exteriorminor']) == float:\n",
    "                extminor = dimensions['exteriorminor']\n",
    "                dimensionsunknown = False\n",
    "            \n",
    "        if 'exteriorheight' in dimensions:\n",
    "            if type(dimensions['exteriorheight']) == int or type(dimensions['exteriorheight']) == float:\n",
    "                exteriorheight = dimensions['exteriorheight']\n",
    "      \n",
    "    d.append((feature['id'],\n",
    "              feature['properties']['title'],\n",
    "              feature['properties']['label'],\n",
    "              latintoponym,\n",
    "              feature['properties']['pleiades'],\n",
    "              welchid,\n",
    "              golvinid,\n",
    "              buildingtype,\n",
    "              chronogroup,\n",
    "              secondcentury,\n",
    "              capacity,\n",
    "              feature['properties']['moderncountry'],\n",
    "              romanregion,\n",
    "              zotero,\n",
    "              amphitheatrum,\n",
    "              dimensionsunknown,\n",
    "              arenamajor,\n",
    "              arenaminor,\n",
    "              extmajor,\n",
    "              extminor,\n",
    "              exteriorheight,\n",
    "              feature['geometry']['coordinates'][0],\n",
    "              feature['geometry']['coordinates'][1],\n",
    "              feature['geometry']['coordinates'][2]))\n",
    "\n",
    "ramphs_df = pd.DataFrame(d, columns=(\n",
    " 'id',    # short id\n",
    " 'title', # longer title\n",
    " 'label', # short label\n",
    " 'latintoponym', # latin toponym\n",
    " 'pleiades', # pleiades https uri\n",
    " 'welchid',  # id in Welch\n",
    " 'golvinid', # id in Golvin\n",
    " 'buildingtype',  # usually 'amphitheater'\n",
    " 'chronogroup',   # label for the chronological group\n",
    " 'secondcentury', # is this an amphitheater that was in use in 2nd century\n",
    " 'capacity',    # capacity as integer\n",
    " 'modcountry',  # modern country\n",
    " 'romanregion', # province or augustan region of italy\n",
    " 'zotero',      # zotero item id\n",
    " 'amphitheatrum', # amphitheatrum url\n",
    " 'dimensionsunknown', # if true, that's a direct statement that no dimensions are available\n",
    " 'arenamajor', # long axis of arena in meters\n",
    " 'arenaminor', # short axis of arena in meters\n",
    " 'extmajor',   # long axis of exterior\n",
    " 'extminor', # short axis of exterior\n",
    " 'exteriorheight',   # height of exterior wall if known\n",
    " 'longitude', # longitude\n",
    " 'latitude', # latitude\n",
    " 'elevation'  # elevation in meters.\n",
    " )) \n",
    "\n",
    "ramphs_df[['capacity','elevation','arenamajor','arenaminor',\n",
    "        'extmajor','extminor','exteriorheight']] = ramphs_df[['capacity','elevation','arenamajor',\n",
    "        'arenaminor','extmajor','extminor','exteriorheight']].apply(pd.to_numeric)"
   ]
  },
  {
   "cell_type": "code",
   "execution_count": null,
   "metadata": {},
   "outputs": [],
   "source": [
    "ramphs_df.to_csv(\"roman-amphitheaters.csv\", index = False, quoting = csv.QUOTE_NONNUMERIC)"
   ]
  },
  {
   "cell_type": "markdown",
   "metadata": {},
   "source": [
    "## Basic Mapping"
   ]
  },
  {
   "cell_type": "code",
   "execution_count": null,
   "metadata": {},
   "outputs": [],
   "source": [
    "ramphs_gdf = gpd.read_file(\"roman-amphitheaters.geojson\")\n",
    "\n",
    "ramphs_gdf_epsg3857 = ramphs_gdf.to_crs(3857)\n",
    "\n",
    "ax = ramphs_gdf_epsg3857.plot(figsize=(20, 20), color = 'red')\n",
    "cx.add_basemap(ax, source=cx.providers.Esri.WorldTerrain)\n",
    "\n",
    "ax.set_axis_off()\n",
    "plt.savefig(\"all-roman-amphitheaters-map.png\",pad_inches=0, bbox_inches='tight')"
   ]
  },
  {
   "cell_type": "code",
   "execution_count": null,
   "metadata": {},
   "outputs": [],
   "source": [
    "# interactive version\n",
    "hv = ramphs_gdf.hvplot(global_extent=False,\n",
    "                          \n",
    "                           hover_cols = ['id'],\n",
    "                           tiles='EsriTerrain',\n",
    "                           xticks = 0, yticks = 0,\n",
    "                           height = 500,\n",
    "                           width = 700,\n",
    "                                c = 'red'\n",
    "                           )\n",
    "\n",
    "\n",
    "hv"
   ]
  },
  {
   "cell_type": "code",
   "execution_count": null,
   "metadata": {},
   "outputs": [],
   "source": [
    "# with roman territory using geopandas\n",
    "\n",
    "\n",
    "url = \"http://sebastianheath.com/roman-maps/roman_empire_ad_200_extent.geojson\" # at some point update geojson source\n",
    "borders_gdf = gpd.read_file(url)\n",
    "\n",
    "base = borders_gdf.plot(color = 'black', figsize = (40,24))\n",
    "ramphs_gdf.plot(ax = base, color = 'red', markersize = 100)\n",
    "\n",
    "plt.grid(False)\n",
    "plt.axis('off')\n",
    "\n",
    "plt.savefig('all-roman-amphitheaters-map-dark.png',pad_inches=0, bbox_inches='tight', transparent = True)\n",
    "plt.close()"
   ]
  },
  {
   "cell_type": "markdown",
   "metadata": {},
   "source": [
    "## Basic/Various Reporting\n",
    "\n",
    "This is semi-random / redundant code by which I keep on top of data entry..."
   ]
  },
  {
   "cell_type": "code",
   "execution_count": null,
   "metadata": {},
   "outputs": [],
   "source": [
    "ramphs_df.head(2)"
   ]
  },
  {
   "cell_type": "code",
   "execution_count": null,
   "metadata": {},
   "outputs": [],
   "source": [
    "ramphs_df.describe()"
   ]
  },
  {
   "cell_type": "code",
   "execution_count": null,
   "metadata": {},
   "outputs": [],
   "source": [
    "ramphs_df[ramphs_df.secondcentury].describe()"
   ]
  },
  {
   "cell_type": "code",
   "execution_count": null,
   "metadata": {},
   "outputs": [],
   "source": [
    "# Confirm that CSV is readable\n",
    "# It would be nice if the \"numeric pattern\" string survived as strings.\n",
    "pd.read_csv(\"roman-amphitheaters.csv\", quoting = 2).describe()"
   ]
  },
  {
   "cell_type": "code",
   "execution_count": null,
   "metadata": {},
   "outputs": [],
   "source": [
    "# which have heights\n",
    "ramphs_df[ramphs_df.exteriorheight > 0]"
   ]
  },
  {
   "cell_type": "code",
   "execution_count": null,
   "metadata": {},
   "outputs": [],
   "source": [
    "# which don't have exteriormajor\n",
    "ramphs_df[pd.isnull(ramphs_df.extmajor)].sort_values(by = 'longitude')\\\n",
    "[['id','modcountry','latintoponym','golvinid','extmajor','arenamajor','latitude','longitude']]"
   ]
  },
  {
   "cell_type": "code",
   "execution_count": null,
   "metadata": {},
   "outputs": [],
   "source": [
    "ramphs_df[ramphs_df.golvinid == '' ][['id','latintoponym','golvinid','extmajor','arenamajor','latitude','longitude']]"
   ]
  },
  {
   "cell_type": "code",
   "execution_count": null,
   "metadata": {},
   "outputs": [],
   "source": [
    "ramphs_df[ramphs_df.latintoponym == '' ][['id','latintoponym','golvinid','extmajor','arenamajor','latitude','longitude']]"
   ]
  },
  {
   "cell_type": "markdown",
   "metadata": {},
   "source": []
  },
  {
   "cell_type": "markdown",
   "metadata": {},
   "source": [
    "## Duplicate Checking"
   ]
  },
  {
   "cell_type": "code",
   "execution_count": null,
   "metadata": {},
   "outputs": [],
   "source": [
    "dups = ramphs_df[ramphs_df.label.duplicated(keep = False)]\\\n",
    "[['id','pleiades','latintoponym','latitude','longitude']].sort_values('pleiades')\n",
    "\n",
    "len(dups) == 0"
   ]
  },
  {
   "cell_type": "code",
   "execution_count": null,
   "metadata": {},
   "outputs": [],
   "source": [
    "dups = ramphs_df[ramphs_df.id.duplicated(keep = False)]\\\n",
    "[['id','pleiades','latintoponym','latitude','longitude']].sort_values('pleiades')\n",
    "\n",
    "len(dups) == 0"
   ]
  },
  {
   "cell_type": "code",
   "execution_count": null,
   "metadata": {},
   "outputs": [],
   "source": [
    "dups = ramphs_df[ramphs_df.pleiades.duplicated(keep = False)]\\\n",
    "[['id','pleiades','latintoponym','latitude','longitude']].sort_values('pleiades')\n",
    "\n",
    "len(dups) == 15"
   ]
  },
  {
   "cell_type": "code",
   "execution_count": null,
   "metadata": {},
   "outputs": [],
   "source": [
    "dups = ramphs_df[ramphs_df.latintoponym.duplicated(keep = False)]\\\n",
    "[['id','pleiades','latintoponym',\n",
    "  'latitude','longitude']].sort_values('pleiades')\n",
    "\n",
    "len(dups.query(\"latintoponym != ''\")) == 11"
   ]
  },
  {
   "cell_type": "markdown",
   "metadata": {},
   "source": [
    "# Chronogrps"
   ]
  },
  {
   "cell_type": "code",
   "execution_count": null,
   "metadata": {},
   "outputs": [],
   "source": [
    "c_grps_from_j = j['romanamphitheaterschronogroups']"
   ]
  },
  {
   "cell_type": "code",
   "execution_count": null,
   "metadata": {},
   "outputs": [],
   "source": [
    "c_grps_to_csv = [[g['id'],g['startdate'],g['enddate']] for g in c_grps_from_j]"
   ]
  },
  {
   "cell_type": "code",
   "execution_count": null,
   "metadata": {},
   "outputs": [],
   "source": [
    "print(f\"In c_grps, not in data: {set([i[0] for i in c_grps_to_csv]) - set([i[8] for i in d])}\")\n",
    "print(f\"In data, not in c_grps: {set([i[8] for i in d]) - set([i[0] for i in c_grps_to_csv])}\")"
   ]
  },
  {
   "cell_type": "code",
   "execution_count": null,
   "metadata": {},
   "outputs": [],
   "source": [
    "if (set([i[0] for i in c_grps_to_csv]) == set([i[8] for i in d])):\n",
    "    c_grps_df = pd.DataFrame(c_grps_to_csv, columns = ('id','startdate','enddate'))\n",
    "    c_grps_df.to_csv(\"chronogrps.csv\", index = False, quoting = csv.QUOTE_NONNUMERIC)"
   ]
  },
  {
   "cell_type": "code",
   "execution_count": null,
   "metadata": {},
   "outputs": [],
   "source": [
    "# Provinces (new, incomplete)"
   ]
  },
  {
   "cell_type": "markdown",
   "metadata": {},
   "source": [
    "# Golvin ID"
   ]
  },
  {
   "cell_type": "code",
   "execution_count": null,
   "metadata": {},
   "outputs": [],
   "source": [
    "L = ramphs_df[ramphs_df['golvinid'] != '']['golvinid'].astype(int).sort_values().tolist()\n",
    "missingItems = [x for x in list(range(300)) if not x in L]\n",
    "missingItems"
   ]
  },
  {
   "cell_type": "markdown",
   "metadata": {},
   "source": [
    "### Dimension/Capacity Combos"
   ]
  },
  {
   "cell_type": "code",
   "execution_count": null,
   "metadata": {},
   "outputs": [],
   "source": [
    "ramphs_df['displaycolor'] = 'red' # problem\n",
    "\n",
    "ramphs_df.loc[ramphs_df[['capacity']].notnull().all(1),'displaycolor'] = 'purple' # any capacity\n",
    "ramphs_df.loc[ramphs_df[['extmajor','extminor','arenamajor','arenaminor','capacity']].notnull().all(1),'displaycolor'] = 'green' # 4 dims, cap, complete\n",
    "\n",
    "ramphs_df.loc[ramphs_df[['extmajor','extminor','arenamajor','arenaminor']].notnull().any(1) & ramphs_df['capacity'].isnull(),'displaycolor'] = 'yellow' # any dim, no cap\n",
    "ramphs_df.loc[ramphs_df[['extmajor','extminor','arenamajor','arenaminor']].notnull().all(1) & ramphs_df['capacity'].isnull(),'displaycolor'] = 'orange' # 4 dims, no cap\n",
    "\n",
    "ramphs_df.loc[ramphs_df['dimensionsunknown'] == True,'displaycolor'] = 'black' # no dims, might be a cap 'nazili'\n",
    "\n",
    "# this should be False\n",
    "print('red' in list(ramphs_df.displaycolor.unique()))\n",
    "\n",
    "bar_series = ramphs_df['displaycolor'].value_counts()\n",
    "\n",
    "bar_series.index = ramphs_df['displaycolor'].value_counts()\n",
    "\n",
    "\n",
    "bar_series.plot.bar(color = ramphs_df['displaycolor'].value_counts().index, xlabel = '')"
   ]
  },
  {
   "cell_type": "code",
   "execution_count": null,
   "metadata": {},
   "outputs": [],
   "source": [
    "# 4 dims, no 3rd party capacity estimate yet entered\n",
    "all_ok = ['allifaeAmphitheater','altinumAmphitheater','anazarbusAmphitheater','avellaAmphitheater',\n",
    "          'burnumAmphitheater', 'carmarthenAmphitheater',\n",
    "          'cherchellAmphitheater','larinoAmphitheater','leonAmphitheater',\n",
    "          'porolissumAmphitheater', 'narbonneAmphitheater','tharrosAmphitheater']\n",
    "\n",
    "ramphs_df.loc[ramphs_df[['extmajor','extminor','arenamajor','arenaminor']]\\\n",
    "              .notnull().all(1) & ramphs_df['capacity'].isnull()\\\n",
    "              ,['id','golvinid','capacity','dimensionsunknown']]\\\n",
    "              .set_index('id', drop=False)\\\n",
    "              .drop(all_ok)# .hvplot.table(sortable=True, selectable=True)\n"
   ]
  },
  {
   "cell_type": "code",
   "execution_count": null,
   "metadata": {},
   "outputs": [],
   "source": [
    "# fewer than 4 dims, capacity recorded\n",
    "ramphs_df.loc[ramphs_df['displaycolor'] == 'purple'\\\n",
    "              ,['id','golvinid','capacity','dimensionsunknown','extmajor','extminor','arenamajor','arenaminor']]\\\n",
    "            .hvplot.table(sortable=True, selectable=True)\n"
   ]
  },
  {
   "cell_type": "code",
   "execution_count": null,
   "metadata": {},
   "outputs": [],
   "source": [
    "# any dim, no cap\n",
    "# ok_to_drop\n",
    "\n",
    "ramphs_df.loc[ramphs_df['displaycolor'] == 'yellow'\\\n",
    "              ,['id','golvinid','capacity','dimensionsunknown','extmajor','extminor','arenamajor','arenaminor']]\\\n",
    "            .hvplot.table(sortable=True, selectable=True)"
   ]
  }
 ],
 "metadata": {
  "kernelspec": {
   "display_name": "Python 3 (ipykernel)",
   "language": "python",
   "name": "python3"
  },
  "language_info": {
   "codemirror_mode": {
    "name": "ipython",
    "version": 3
   },
   "file_extension": ".py",
   "mimetype": "text/x-python",
   "name": "python",
   "nbconvert_exporter": "python",
   "pygments_lexer": "ipython3",
   "version": "3.11.6"
  }
 },
 "nbformat": 4,
 "nbformat_minor": 4
}
