{
 "cells": [
  {
   "cell_type": "markdown",
   "metadata": {},
   "source": [
    "# Python for Creating CSV and Preliminary Reporting"
   ]
  },
  {
   "cell_type": "code",
   "execution_count": null,
   "metadata": {},
   "outputs": [],
   "source": [
    "import csv\n",
    "\n",
    "import geoviews as gv\n",
    "import geoviews.feature as gf\n",
    "from geoviews import opts, tile_sources as gvts\n",
    "\n",
    "\n",
    "import json\n",
    "import matplotlib.pyplot as plt\n",
    "import pandas as pd\n",
    "from shapely.geometry import Point\n",
    "import urllib\n",
    "\n",
    "from cartopy import crs as ccrs\n",
    "\n",
    "import geoviews as gv\n",
    "import geoviews.feature as gf\n",
    "import holoviews as hv\n",
    "\n",
    "import geopandas as gpd\n",
    "\n",
    "%matplotlib inline\n",
    "plt.style.use('ggplot')\n",
    "\n",
    "from datetime import date\n",
    "print(\"Last run: \", date.today())\n",
    "\n",
    "gv.extension('bokeh', 'matplotlib')"
   ]
  },
  {
   "cell_type": "markdown",
   "metadata": {},
   "source": [
    "## Load Data and Write to CSV\n"
   ]
  },
  {
   "cell_type": "code",
   "execution_count": null,
   "metadata": {},
   "outputs": [],
   "source": [
    "with open(\"roman-amphitheaters.geojson\") as f:\n",
    "    j = json.load(f)"
   ]
  },
  {
   "cell_type": "code",
   "execution_count": null,
   "metadata": {},
   "outputs": [],
   "source": [
    "# If there is one, I'd welcome a more pythonic approach. One that \n",
    "# accomodates the variable data model supported by JSON.\n",
    "\n",
    "d = []\n",
    "for feature in j['features']:\n",
    "    \n",
    "    # Check for optional properties\n",
    "\n",
    "    if 'latintoponym' in feature['properties'].keys():\n",
    "        latintoponym = feature['properties']['latintoponym']\n",
    "    else:\n",
    "        latintoponym = ''    \n",
    "\n",
    "    if 'welchid' in feature['properties'].keys():\n",
    "        welchid = feature['properties']['welchid']\n",
    "    else:\n",
    "        welchid = ''\n",
    "\n",
    "    if 'golvinid' in feature['properties'].keys():\n",
    "        golvinid = feature['properties']['golvinid']\n",
    "    else:\n",
    "        golvinid = ''\n",
    "\n",
    "    if 'buildingtype' in feature['properties'].keys():\n",
    "        buildingtype = feature['properties']['buildingtype']\n",
    "    else:\n",
    "        buildingtype = ''\n",
    "        \n",
    "    try:\n",
    "        zotero = feature['properties']['bibliography'][0]['zoteroitem']\n",
    "    except:\n",
    "        zotero = ''\n",
    " \n",
    "    if 'chronogroup' in feature['properties'].keys():\n",
    "        chronogroup = feature['properties']['chronogroup']\n",
    "    else:\n",
    "        chronogroup = ''\n",
    "\n",
    "    secondcentury = True\n",
    "    if 'exclude' in feature['properties'].keys():\n",
    "        secondcentury = False\n",
    "\n",
    "    if 'capacity' in feature['properties'].keys():\n",
    "        capacity = feature['properties']['capacity']['quantity']\n",
    "    else:\n",
    "        capacity = ''\n",
    "\n",
    "    if 'province' in feature['properties'].keys():\n",
    "        romanregion = feature['properties']['province']\n",
    "    elif 'region' in feature['properties'].keys():\n",
    "        romanregion = feature['properties']['region']\n",
    "    else:\n",
    "        romanregion = ''\n",
    "        \n",
    "    arenamajor = ''\n",
    "    arenaminor = ''\n",
    "    extmajor = ''\n",
    "    extminor = ''\n",
    "    exteriorheight = ''\n",
    "    if 'dimensions' in feature['properties'].keys():\n",
    "        dimensions = feature['properties']['dimensions']\n",
    "        \n",
    "        if 'arenamajor' in dimensions.keys():\n",
    "            arenamajor = dimensions['arenamajor']\n",
    "\n",
    "        if 'arenaminor' in dimensions.keys():\n",
    "            arenaminor = dimensions['arenaminor']\n",
    "            \n",
    "        if 'exteriormajor' in dimensions.keys():\n",
    "            extmajor = dimensions['exteriormajor']\n",
    "\n",
    "        if 'exteriorminor' in dimensions.keys():\n",
    "            extminor = dimensions['exteriorminor']\n",
    "            \n",
    "        if 'exteriorheight' in dimensions.keys():\n",
    "            exteriorheight = dimensions['exteriorheight']\n",
    "            \n",
    "    d.append((feature['id'],\n",
    "              feature['properties']['title'],\n",
    "              feature['properties']['label'],\n",
    "              latintoponym,\n",
    "              feature['properties']['pleiades'],\n",
    "              welchid,\n",
    "              golvinid,\n",
    "              buildingtype,\n",
    "              chronogroup,\n",
    "              secondcentury,\n",
    "              capacity,\n",
    "              feature['properties']['moderncountry'],\n",
    "              romanregion,\n",
    "              zotero,\n",
    "              arenamajor,\n",
    "              arenaminor,\n",
    "              extmajor,\n",
    "              extminor,\n",
    "              exteriorheight,\n",
    "              feature['geometry']['coordinates'][0],\n",
    "              feature['geometry']['coordinates'][1],\n",
    "              feature['geometry']['coordinates'][2]))\n",
    "\n",
    "ramphs_df = pd.DataFrame(d, columns=(\n",
    " 'id',    # short id\n",
    " 'title', # longer title\n",
    " 'label', # short label\n",
    " 'latintoponym', # latin toponym\n",
    " 'pleiades', # pleiades https uri\n",
    " 'welchid',  # id in Welch\n",
    " 'golvinid', # id in Golvin\n",
    " 'buildingtype',  # usually 'amphitheater'\n",
    " 'chronogroup',   # label for the chronological group\n",
    " 'secondcentury', # is this an amphitheater that was in use in 2nd century\n",
    " 'capacity',    # capacity as integer\n",
    " 'modcountry',  # modern country\n",
    " 'romanregion', # province or augustan region of italy\n",
    " 'zotero',      # zotero item id\n",
    " 'arenamajor', # long axis of arena in meters\n",
    " 'arenaminor', # short axis of arena in meters\n",
    " 'extmajor',   # long axis of exterior\n",
    " 'extminor', # short axis of exterior\n",
    " 'exteriorheight',   # height of exterior wall if known\n",
    " 'longitude', # longitude\n",
    " 'latitude', # latitude\n",
    " 'elevation'  # elevation in meters.\n",
    " )) \n",
    "\n",
    "ramphs_df[['capacity','elevation','arenamajor','arenaminor',\n",
    "        'extmajor','extminor','exteriorheight']] = ramphs_df[['capacity','elevation','arenamajor',\n",
    "        'arenaminor','extmajor','extminor','exteriorheight']].apply(pd.to_numeric)"
   ]
  },
  {
   "cell_type": "code",
   "execution_count": null,
   "metadata": {},
   "outputs": [],
   "source": [
    "ramphs_df.to_csv(\"roman-amphitheaters.csv\", index = False, quoting = csv.QUOTE_NONNUMERIC)"
   ]
  },
  {
   "cell_type": "code",
   "execution_count": null,
   "metadata": {},
   "outputs": [],
   "source": [
    "#ramphs_df[['id','title','chronogroup','latintoponym','romanregion','modcountry','capacity',\n",
    "#           'extmajor','extminor','arenamajor','arenaminor','latitude','longitude']].to_csv('tmp.csv', index = False, quoting = csv.QUOTE_NONNUMERIC)"
   ]
  },
  {
   "cell_type": "markdown",
   "metadata": {},
   "source": [
    "## Basic Mapping"
   ]
  },
  {
   "cell_type": "code",
   "execution_count": null,
   "metadata": {},
   "outputs": [],
   "source": [
    "# with terrain using geoviews\n",
    "ramphs_points_gv = gv.Points(ramphs_df, ['longitude', 'latitude'])\n",
    "tiles = gv.tile_sources.EsriTerrain\n",
    "\n",
    "# towards adding outline of roman terriory to map\n",
    "# url = \"http://sebastianheath.com/roman-maps/roman_empire_ad_117_extent.geojson\"\n",
    "#borders_df = gpd.read_file(url)\n",
    "# borders_gv = gv.Polygons(borders_df)# .opts(projection=ccrs.Robinson(), width=600, tools=['hover'])\n",
    "\n",
    "current_map = (tiles *  ramphs_points_gv.opts(  color='red', size=8) ).opts(width=1600, height=1200, toolbar=None)\n",
    "gv.save(current_map, \"all-roman-amphitheaters-map.png\")\n",
    "\n",
    "# it's a bit annoying that this produces so many warnings."
   ]
  },
  {
   "cell_type": "code",
   "execution_count": null,
   "metadata": {},
   "outputs": [],
   "source": [
    "# with roman territory using geopandas\n",
    "\n",
    "ramphs_gdf = gpd.GeoDataFrame(\n",
    "    ramphs_df, geometry=gpd.points_from_xy(ramphs_df.longitude, ramphs_df.latitude))\n",
    "ramphs_gdf.crs = \"EPSG:4326\"\n",
    "\n",
    "url = \"http://sebastianheath.com/roman-maps/roman_empire_ad_200_extent.geojson\"\n",
    "borders_gdf = gpd.read_file(url)\n",
    "\n",
    "base = borders_gdf.plot(color = 'black', figsize = (40,24))\n",
    "ramphs_gdf.plot(ax = base, color = 'red', markersize = 100)\n",
    "\n",
    "plt.grid(False)\n",
    "plt.axis('off')\n",
    "\n",
    "plt.savefig('all-roman-amphitheaters-map-dark.png',pad_inches=0, bbox_inches='tight', transparent = True)\n",
    "plt.close()"
   ]
  },
  {
   "cell_type": "markdown",
   "metadata": {},
   "source": [
    "## Basic Reporting"
   ]
  },
  {
   "cell_type": "code",
   "execution_count": null,
   "metadata": {},
   "outputs": [],
   "source": [
    "ramphs_df.head(2)"
   ]
  },
  {
   "cell_type": "code",
   "execution_count": null,
   "metadata": {},
   "outputs": [],
   "source": [
    "ramphs_df.describe()"
   ]
  },
  {
   "cell_type": "code",
   "execution_count": null,
   "metadata": {},
   "outputs": [],
   "source": [
    "ramphs_df[ramphs_df.secondcentury].describe()"
   ]
  },
  {
   "cell_type": "code",
   "execution_count": null,
   "metadata": {},
   "outputs": [],
   "source": [
    "# Confirm that CSV is readable\n",
    "# It would be nice if the \"numeric pattern\" string survived as strings.\n",
    "pd.read_csv(\"roman-amphitheaters.csv\", quoting = 2).describe()"
   ]
  },
  {
   "cell_type": "code",
   "execution_count": null,
   "metadata": {},
   "outputs": [],
   "source": [
    "# which have heights\n",
    "ramphs_df[ramphs_df.exteriorheight > 0]"
   ]
  },
  {
   "cell_type": "code",
   "execution_count": null,
   "metadata": {},
   "outputs": [],
   "source": [
    "# which don't have exteriormajor\n",
    "ramphs_df[pd.isnull(ramphs_df.extmajor)].sort_values(by = 'longitude')\\\n",
    "[['id','modcountry','latintoponym','golvinid','extmajor','arenamajor','latitude','longitude']]"
   ]
  },
  {
   "cell_type": "code",
   "execution_count": null,
   "metadata": {},
   "outputs": [],
   "source": [
    "ramphs_df[ramphs_df.golvinid == '' ][['id','latintoponym','golvinid','extmajor','arenamajor','latitude','longitude']]"
   ]
  },
  {
   "cell_type": "code",
   "execution_count": null,
   "metadata": {},
   "outputs": [],
   "source": [
    "ramphs_df[ramphs_df.latintoponym == '' ][['id','latintoponym','golvinid','extmajor','arenamajor','latitude','longitude']]"
   ]
  },
  {
   "cell_type": "markdown",
   "metadata": {},
   "source": []
  },
  {
   "cell_type": "code",
   "execution_count": null,
   "metadata": {},
   "outputs": [],
   "source": [
    "ramphs_points_gv = gv.Points(ramphs_df, ['longitude', 'latitude'])\n",
    "tiles = gv.tile_sources.EsriTerrain\n",
    "\n",
    "current_map = (tiles * ramphs_points_gv.opts(  color='red', size=8) ).opts(width=1600, height=1200, toolbar=None)\n",
    "gv.save(current_map, \"all-roman-amphitheaters-map.png\")\n",
    "\n",
    "# it's a bit annoying that this produces so many warnings. "
   ]
  },
  {
   "cell_type": "markdown",
   "metadata": {},
   "source": [
    "## Duplicate Checking"
   ]
  },
  {
   "cell_type": "code",
   "execution_count": null,
   "metadata": {},
   "outputs": [],
   "source": [
    "dups = ramphs_df[ramphs_df.label.duplicated(keep = False)]\\\n",
    "[['id','pleiades','latintoponym','latitude','longitude']].sort_values('pleiades')\n",
    "\n",
    "len(dups) == 0"
   ]
  },
  {
   "cell_type": "code",
   "execution_count": null,
   "metadata": {},
   "outputs": [],
   "source": [
    "dups = ramphs_df[ramphs_df.id.duplicated(keep = False)]\\\n",
    "[['id','pleiades','latintoponym','latitude','longitude']].sort_values('pleiades')\n",
    "\n",
    "len(dups) == 0"
   ]
  },
  {
   "cell_type": "code",
   "execution_count": null,
   "metadata": {},
   "outputs": [],
   "source": [
    "dups = ramphs_df[ramphs_df.pleiades.duplicated(keep = False)]\\\n",
    "[['id','pleiades','latintoponym','latitude','longitude']].sort_values('pleiades')\n",
    "\n",
    "len(dups) == 15"
   ]
  },
  {
   "cell_type": "code",
   "execution_count": null,
   "metadata": {},
   "outputs": [],
   "source": [
    "dups = ramphs_df[ramphs_df.latintoponym.duplicated(keep = False)]\\\n",
    "[['id','pleiades','latintoponym',\n",
    "  'latitude','longitude']].sort_values('pleiades')\n",
    "\n",
    "len(dups.query(\"latintoponym != ''\")) == 11"
   ]
  }
 ],
 "metadata": {
  "kernelspec": {
   "display_name": "Python 3",
   "language": "python",
   "name": "python3"
  },
  "language_info": {
   "codemirror_mode": {
    "name": "ipython",
    "version": 3
   },
   "file_extension": ".py",
   "mimetype": "text/x-python",
   "name": "python",
   "nbconvert_exporter": "python",
   "pygments_lexer": "ipython3",
   "version": "3.9.2"
  }
 },
 "nbformat": 4,
 "nbformat_minor": 4
}
